{
  "nbformat": 4,
  "nbformat_minor": 0,
  "metadata": {
    "colab": {
      "provenance": [],
      "authorship_tag": "ABX9TyP6sFdiukhqKf9kEaeKhmWU",
      "include_colab_link": true
    },
    "kernelspec": {
      "name": "python3",
      "display_name": "Python 3"
    },
    "language_info": {
      "name": "python"
    }
  },
  "cells": [
    {
      "cell_type": "markdown",
      "metadata": {
        "id": "view-in-github",
        "colab_type": "text"
      },
      "source": [
        "<a href=\"https://colab.research.google.com/github/sazapatamo/SegundoEjemplo-IO1/blob/main/ZAPATAs_prueba2_IO1.ipynb\" target=\"_parent\"><img src=\"https://colab.research.google.com/assets/colab-badge.svg\" alt=\"Open In Colab\"/></a>"
      ]
    },
    {
      "cell_type": "markdown",
      "source": [
        "#Primer ejercicio\n",
        "\n",
        "##Subtitulo\n",
        "\n",
        "texto normal"
      ],
      "metadata": {
        "id": "UrHGO2-X3poP"
      }
    },
    {
      "cell_type": "code",
      "execution_count": 5,
      "metadata": {
        "colab": {
          "base_uri": "https://localhost:8080/"
        },
        "id": "TQ0TQeXP2FVa",
        "outputId": "3c4349b2-06c0-4eaa-8798-70cb7098000f"
      },
      "outputs": [
        {
          "output_type": "stream",
          "name": "stdout",
          "text": [
            "Buenos días mundo\n"
          ]
        }
      ],
      "source": [
        "print(\"Buenos días mundo\")"
      ]
    },
    {
      "cell_type": "markdown",
      "source": [
        "#Segundo ejercico"
      ],
      "metadata": {
        "id": "LsZW9HRm4eYo"
      }
    },
    {
      "cell_type": "code",
      "source": [
        "print(\"Buenos días, Sara\")"
      ],
      "metadata": {
        "colab": {
          "base_uri": "https://localhost:8080/"
        },
        "id": "vkw6KSek4Nje",
        "outputId": "f29ba828-1d8d-466e-d5a3-44b70ddcca1e"
      },
      "execution_count": 6,
      "outputs": [
        {
          "output_type": "stream",
          "name": "stdout",
          "text": [
            "Buenos días, Sara\n"
          ]
        }
      ]
    }
  ]
}